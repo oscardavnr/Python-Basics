# **PYTHON BASICS**
---
<br>

¡Hola! Bienvenid@ a tu curso rápido de Python, estás por aprender a usar de forma práctica uno de los lenguajes más potentes que actualmente existen y uno de los más utilizados en el mundo laboral, estamos seguros que será una gran herramienta para ti.

Python es uno de los lenguajes que más se adapta a la actual era de los datos, podrás observar el uso de python en:

*   Ciencia de datos.
*   Desarrollo web (Backend).
*   Inteligencia artificial.

El poder que estás por adquirir requiere de tu creatividad y dedicación, éxito :)
